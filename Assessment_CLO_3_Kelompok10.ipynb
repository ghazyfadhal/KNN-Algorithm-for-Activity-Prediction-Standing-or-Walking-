{
  "cells": [
    {
      "cell_type": "markdown",
      "id": "f67c8e8d",
      "metadata": {
        "id": "f67c8e8d"
      },
      "source": [
        "#### Pendahuluan\n",
        "Silahkan double click cell ini dan perkenalkan dataset yang Anda pilih, beserta masalah apa yang ingin diselesaikan!\n",
        "\n",
        "Jelaskan pula bagaimana Anda mengolah data serta membaginya untuk tahap training dan testing!"
      ]
    },
    {
      "cell_type": "markdown",
      "id": "0998ab93",
      "metadata": {
        "id": "0998ab93"
      },
      "source": [
        "# <center>Assessment CLO-3: Tugas Pemrograman Learning</center>"
      ]
    },
    {
      "cell_type": "markdown",
      "id": "b9dd2c3d",
      "metadata": {
        "id": "b9dd2c3d"
      },
      "source": [
        "<b>Topik</b>\n",
        "Klasifikasi pada [nama dataset] menggunakan [nama metode]]\n",
        "\n",
        "<b>Kelompok: </b>\n",
        "\n",
        "Anggota:\n",
        "1. Arief Muhammad Usry - 1301223069\n",
        "2. Muhammad Rafie Hamizan - 1301223344\n",
        "3. Ghazy Fadhal Ramadhan - 1301223359"
      ]
    },
    {
      "cell_type": "markdown",
      "id": "691b437e",
      "metadata": {
        "id": "691b437e"
      },
      "source": [
        "#### Metode yang Digunakan\n",
        "Silahkan double click cell ini dan jelaskan metode yang Anda pilih, disertai penjelasan mengenai setting parameter yang ditentukan!"
      ]
    },
    {
      "cell_type": "code",
      "execution_count": null,
      "id": "bd1c9727",
      "metadata": {
        "id": "bd1c9727"
      },
      "outputs": [],
      "source": [
        "# Show your data in tabular or other visualization ways\n",
        "# Data Preprocessing\n",
        "# Data Splitting\n",
        "# Write your code here\n",
        "\n"
      ]
    },
    {
      "cell_type": "code",
      "execution_count": null,
      "id": "348c59c4",
      "metadata": {
        "id": "348c59c4"
      },
      "outputs": [],
      "source": [
        "# Experiment Settings\n",
        "# Write your code here\n",
        "\n"
      ]
    },
    {
      "cell_type": "code",
      "execution_count": null,
      "id": "27ae8626",
      "metadata": {
        "id": "27ae8626"
      },
      "outputs": [],
      "source": [
        "# Model Training\n",
        "# Save the trained model\n",
        "# Write your code here\n",
        "\n"
      ]
    },
    {
      "cell_type": "code",
      "execution_count": null,
      "id": "db175b05",
      "metadata": {
        "id": "db175b05"
      },
      "outputs": [],
      "source": [
        "# Model Testing and Evaluation\n",
        "# Show the performance\n",
        "# Write your code here\n",
        "\n"
      ]
    },
    {
      "cell_type": "markdown",
      "id": "8a255fe5",
      "metadata": {
        "id": "8a255fe5"
      },
      "source": [
        "#### Kesimpulan\n",
        "Silahkan double click cell ini dan tulis kesimpulan berdasarkan hasil percobaan yang Anda lakukan!\n",
        "\n",
        "skor akurasi menandakan performa secara keseluruhan berdasarkan model. Jika akurasinya tinggi artinya model tersebut memiliki performa yang bagus, begitu pula sebaliknya.\n",
        "Laporan klasifikasi dan confusion matriks memudahkan untuk melihat performa model dari setiap kelas aktivitas. Jika kelas-kelas (presisi, recall, atau F1-scores) memiliki nilai yang rendah maka kemungkinan dibutuhkannya data yang lebih banyak atau fitur rekayasa yang lebih baik.\n",
        "Hal-hal tersebut dapat dipahami dengan mudah karena adanya visualisasi distribusi dan relasi antar fitur."
      ]
    },
    {
      "cell_type": "markdown",
      "id": "c5526cf7",
      "metadata": {
        "id": "c5526cf7"
      },
      "source": [
        "#### Hasil dan Analisis\n",
        "Silahkan double click cell ini dan tulis hasil dan analisis!\n",
        "\n",
        "Tampilkan performa yang dihasilkan, bisa dalam tabel dan grafik, diukur berdasarkan metrik evaluasi yang dipakai.\n",
        "\n",
        "Tuliskan hasil analisis Anda."
      ]
    },
    {
      "cell_type": "markdown",
      "id": "5241e91d",
      "metadata": {
        "id": "5241e91d"
      },
      "source": []
    }
  ],
  "metadata": {
    "kernelspec": {
      "display_name": "Python 3 (ipykernel)",
      "language": "python",
      "name": "python3"
    },
    "language_info": {
      "codemirror_mode": {
        "name": "ipython",
        "version": 3
      },
      "file_extension": ".py",
      "mimetype": "text/x-python",
      "name": "python",
      "nbconvert_exporter": "python",
      "pygments_lexer": "ipython3",
      "version": "3.10.9"
    },
    "colab": {
      "provenance": []
    }
  },
  "nbformat": 4,
  "nbformat_minor": 5
}